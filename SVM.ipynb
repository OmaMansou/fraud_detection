{
 "cells": [
  {
   "cell_type": "code",
   "execution_count": 151,
   "id": "3eae2b14",
   "metadata": {},
   "outputs": [],
   "source": [
    "#  Import packages\n",
    "\n",
    "# Numpy,Pandas\n",
    "import numpy as np\n",
    "import pandas as pd\n",
    "import datetime\n",
    "\n",
    "# matplotlib,seaborn,pyecharts\n",
    "import matplotlib.pyplot as plt\n",
    "import matplotlib.gridspec as gridspec\n",
    "from matplotlib.pyplot import figure\n",
    "# plt.style.use('ggplot')  \n",
    "import seaborn as sns\n",
    "sns.set_style('whitegrid')\n",
    "%matplotlib inline\n",
    "import missingno as msno\n",
    "\n",
    "# ignore warnings\n",
    "import warnings\n",
    "warnings.filterwarnings('ignore')  \n",
    "\n",
    "pd.set_option('display.float_format', lambda x: '%.4f' % x)"
   ]
  },
  {
   "cell_type": "code",
   "execution_count": 152,
   "id": "f3b88186",
   "metadata": {},
   "outputs": [],
   "source": [
    "datatrain = pd.read_csv('fraud_dataset.csv', encoding='latin-1')\n",
    "datatrain = datatrain.iloc[:150000]\n",
    "\n",
    "datatrain1 = pd.read_csv('train_dataset.csv', encoding='latin-1')\n",
    "datatrain1 = datatrain1.drop(columns='level_0')\n",
    "datatest = pd.read_csv('test_dataset.csv', encoding='latin-1')\n",
    "datatest = datatest.drop(columns='level_0')\n",
    "datavalid = pd.read_csv('valid_dataset.csv', encoding='latin-1')\n",
    "datavalid = datavalid.drop(columns='level_0')"
   ]
  },
  {
   "cell_type": "code",
   "execution_count": 153,
   "id": "7dc382c1",
   "metadata": {},
   "outputs": [],
   "source": [
    "datatrain.loc[:, 'day'] = pd.to_datetime(datatrain.datetime).dt.day\n",
    "datatrain.loc[:, 'time'] = pd.to_datetime(datatrain.datetime).dt.second + pd.to_datetime(datatrain.datetime).dt.minute*60 + pd.to_datetime(datatrain.datetime).dt.hour*3600\n",
    "\n",
    "\n",
    "\n",
    "datatrain = datatrain.drop(columns=\"datetime\")"
   ]
  },
  {
   "cell_type": "code",
   "execution_count": 154,
   "id": "0c65e3e1",
   "metadata": {},
   "outputs": [
    {
     "data": {
      "text/plain": [
       "40"
      ]
     },
     "execution_count": 154,
     "metadata": {},
     "output_type": "execute_result"
    }
   ],
   "source": [
    "len(datatrain.columns)"
   ]
  },
  {
   "cell_type": "code",
   "execution_count": 156,
   "id": "0c05955a",
   "metadata": {},
   "outputs": [
    {
     "data": {
      "text/plain": [
       "40"
      ]
     },
     "execution_count": 156,
     "metadata": {},
     "output_type": "execute_result"
    }
   ],
   "source": [
    "len(datatrain1.columns)"
   ]
  },
  {
   "cell_type": "code",
   "execution_count": 105,
   "id": "791db40c",
   "metadata": {},
   "outputs": [
    {
     "data": {
      "text/plain": [
       "<AxesSubplot:ylabel='fraud'>"
      ]
     },
     "execution_count": 105,
     "metadata": {},
     "output_type": "execute_result"
    },
    {
     "data": {
      "image/png": "[encoded data removed]",
      "text/plain": [
       "<Figure size 432x288 with 1 Axes>"
      ]
     },
     "metadata": {},
     "output_type": "display_data"
    }
   ],
   "source": [
    "datatrain['fraud'].value_counts().plot(x=None,y=None, kind='pie',autopct='%1.2f%%')\n",
    "#atatest['fraud'].value_counts().plot(x=None,y=None, kind='pie',autopct='%1.2f%%')\n",
    "#datavalid['fraud'].value_counts().plot(x=None,y=None, kind='pie',autopct='%1.2f%%')"
   ]
  },
  {
   "cell_type": "code",
   "execution_count": 83,
   "id": "5e21565e",
   "metadata": {},
   "outputs": [
    {
     "ename": "KeyError",
     "evalue": "'datetime'",
     "output_type": "error",
     "traceback": [
      "\u001b[1;31m---------------------------------------------------------------------------\u001b[0m",
      "\u001b[1;31mKeyError\u001b[0m                                  Traceback (most recent call last)",
      "File \u001b[1;32mC:\\ProgramData\\Anaconda3\\lib\\site-packages\\pandas\\core\\indexes\\base.py:3621\u001b[0m, in \u001b[0;36mIndex.get_loc\u001b[1;34m(self, key, method, tolerance)\u001b[0m\n\u001b[0;32m   3620\u001b[0m \u001b[38;5;28;01mtry\u001b[39;00m:\n\u001b[1;32m-> 3621\u001b[0m     \u001b[38;5;28;01mreturn\u001b[39;00m \u001b[38;5;28;43mself\u001b[39;49m\u001b[38;5;241;43m.\u001b[39;49m\u001b[43m_engine\u001b[49m\u001b[38;5;241;43m.\u001b[39;49m\u001b[43mget_loc\u001b[49m\u001b[43m(\u001b[49m\u001b[43mcasted_key\u001b[49m\u001b[43m)\u001b[49m\n\u001b[0;32m   3622\u001b[0m \u001b[38;5;28;01mexcept\u001b[39;00m \u001b[38;5;167;01mKeyError\u001b[39;00m \u001b[38;5;28;01mas\u001b[39;00m err:\n",
      "File \u001b[1;32mC:\\ProgramData\\Anaconda3\\lib\\site-packages\\pandas\\_libs\\index.pyx:136\u001b[0m, in \u001b[0;36mpandas._libs.index.IndexEngine.get_loc\u001b[1;34m()\u001b[0m\n",
      "File \u001b[1;32mC:\\ProgramData\\Anaconda3\\lib\\site-packages\\pandas\\_libs\\index.pyx:163\u001b[0m, in \u001b[0;36mpandas._libs.index.IndexEngine.get_loc\u001b[1;34m()\u001b[0m\n",
      "File \u001b[1;32mpandas\\_libs\\hashtable_class_helper.pxi:5198\u001b[0m, in \u001b[0;36mpandas._libs.hashtable.PyObjectHashTable.get_item\u001b[1;34m()\u001b[0m\n",
      "File \u001b[1;32mpandas\\_libs\\hashtable_class_helper.pxi:5206\u001b[0m, in \u001b[0;36mpandas._libs.hashtable.PyObjectHashTable.get_item\u001b[1;34m()\u001b[0m\n",
      "\u001b[1;31mKeyError\u001b[0m: 'datetime'",
      "\nThe above exception was the direct cause of the following exception:\n",
      "\u001b[1;31mKeyError\u001b[0m                                  Traceback (most recent call last)",
      "Input \u001b[1;32mIn [83]\u001b[0m, in \u001b[0;36m<cell line: 4>\u001b[1;34m()\u001b[0m\n\u001b[0;32m      1\u001b[0m datatrain[\u001b[38;5;124m'\u001b[39m\u001b[38;5;124mhour\u001b[39m\u001b[38;5;124m'\u001b[39m] \u001b[38;5;241m=\u001b[39m pd\u001b[38;5;241m.\u001b[39mto_datetime(datatrain[\u001b[38;5;124m'\u001b[39m\u001b[38;5;124mdatetime\u001b[39m\u001b[38;5;124m'\u001b[39m])\u001b[38;5;241m.\u001b[39mdt\u001b[38;5;241m.\u001b[39mhour\n\u001b[0;32m      2\u001b[0m datatrain\u001b[38;5;241m.\u001b[39mdrop(\u001b[38;5;124m'\u001b[39m\u001b[38;5;124mdatetime\u001b[39m\u001b[38;5;124m'\u001b[39m, axis \u001b[38;5;241m=\u001b[39m \u001b[38;5;241m1\u001b[39m, inplace \u001b[38;5;241m=\u001b[39m \u001b[38;5;28;01mTrue\u001b[39;00m)\n\u001b[1;32m----> 4\u001b[0m datatest[\u001b[38;5;124m'\u001b[39m\u001b[38;5;124mhour\u001b[39m\u001b[38;5;124m'\u001b[39m] \u001b[38;5;241m=\u001b[39m pd\u001b[38;5;241m.\u001b[39mto_datetime(\u001b[43mdatatest\u001b[49m\u001b[43m[\u001b[49m\u001b[38;5;124;43m'\u001b[39;49m\u001b[38;5;124;43mdatetime\u001b[39;49m\u001b[38;5;124;43m'\u001b[39;49m\u001b[43m]\u001b[49m)\u001b[38;5;241m.\u001b[39mdt\u001b[38;5;241m.\u001b[39mhour\n\u001b[0;32m      5\u001b[0m datatest\u001b[38;5;241m.\u001b[39mdrop(\u001b[38;5;124m'\u001b[39m\u001b[38;5;124mdatetime\u001b[39m\u001b[38;5;124m'\u001b[39m, axis \u001b[38;5;241m=\u001b[39m \u001b[38;5;241m1\u001b[39m, inplace \u001b[38;5;241m=\u001b[39m \u001b[38;5;28;01mTrue\u001b[39;00m)\n\u001b[0;32m      7\u001b[0m datavalid[\u001b[38;5;124m'\u001b[39m\u001b[38;5;124mhour\u001b[39m\u001b[38;5;124m'\u001b[39m] \u001b[38;5;241m=\u001b[39m pd\u001b[38;5;241m.\u001b[39mto_datetime(datavalid[\u001b[38;5;124m'\u001b[39m\u001b[38;5;124mdatetime\u001b[39m\u001b[38;5;124m'\u001b[39m])\u001b[38;5;241m.\u001b[39mdt\u001b[38;5;241m.\u001b[39mhour\n",
      "File \u001b[1;32mC:\\ProgramData\\Anaconda3\\lib\\site-packages\\pandas\\core\\frame.py:3505\u001b[0m, in \u001b[0;36mDataFrame.__getitem__\u001b[1;34m(self, key)\u001b[0m\n\u001b[0;32m   3503\u001b[0m \u001b[38;5;28;01mif\u001b[39;00m \u001b[38;5;28mself\u001b[39m\u001b[38;5;241m.\u001b[39mcolumns\u001b[38;5;241m.\u001b[39mnlevels \u001b[38;5;241m>\u001b[39m \u001b[38;5;241m1\u001b[39m:\n\u001b[0;32m   3504\u001b[0m     \u001b[38;5;28;01mreturn\u001b[39;00m \u001b[38;5;28mself\u001b[39m\u001b[38;5;241m.\u001b[39m_getitem_multilevel(key)\n\u001b[1;32m-> 3505\u001b[0m indexer \u001b[38;5;241m=\u001b[39m \u001b[38;5;28;43mself\u001b[39;49m\u001b[38;5;241;43m.\u001b[39;49m\u001b[43mcolumns\u001b[49m\u001b[38;5;241;43m.\u001b[39;49m\u001b[43mget_loc\u001b[49m\u001b[43m(\u001b[49m\u001b[43mkey\u001b[49m\u001b[43m)\u001b[49m\n\u001b[0;32m   3506\u001b[0m \u001b[38;5;28;01mif\u001b[39;00m is_integer(indexer):\n\u001b[0;32m   3507\u001b[0m     indexer \u001b[38;5;241m=\u001b[39m [indexer]\n",
      "File \u001b[1;32mC:\\ProgramData\\Anaconda3\\lib\\site-packages\\pandas\\core\\indexes\\base.py:3623\u001b[0m, in \u001b[0;36mIndex.get_loc\u001b[1;34m(self, key, method, tolerance)\u001b[0m\n\u001b[0;32m   3621\u001b[0m     \u001b[38;5;28;01mreturn\u001b[39;00m \u001b[38;5;28mself\u001b[39m\u001b[38;5;241m.\u001b[39m_engine\u001b[38;5;241m.\u001b[39mget_loc(casted_key)\n\u001b[0;32m   3622\u001b[0m \u001b[38;5;28;01mexcept\u001b[39;00m \u001b[38;5;167;01mKeyError\u001b[39;00m \u001b[38;5;28;01mas\u001b[39;00m err:\n\u001b[1;32m-> 3623\u001b[0m     \u001b[38;5;28;01mraise\u001b[39;00m \u001b[38;5;167;01mKeyError\u001b[39;00m(key) \u001b[38;5;28;01mfrom\u001b[39;00m \u001b[38;5;21;01merr\u001b[39;00m\n\u001b[0;32m   3624\u001b[0m \u001b[38;5;28;01mexcept\u001b[39;00m \u001b[38;5;167;01mTypeError\u001b[39;00m:\n\u001b[0;32m   3625\u001b[0m     \u001b[38;5;66;03m# If we have a listlike key, _check_indexing_error will raise\u001b[39;00m\n\u001b[0;32m   3626\u001b[0m     \u001b[38;5;66;03m#  InvalidIndexError. Otherwise we fall through and re-raise\u001b[39;00m\n\u001b[0;32m   3627\u001b[0m     \u001b[38;5;66;03m#  the TypeError.\u001b[39;00m\n\u001b[0;32m   3628\u001b[0m     \u001b[38;5;28mself\u001b[39m\u001b[38;5;241m.\u001b[39m_check_indexing_error(key)\n",
      "\u001b[1;31mKeyError\u001b[0m: 'datetime'"
     ]
    }
   ],
   "source": [
    "datatrain['hour'] = pd.to_datetime(datatrain['datetime']).dt.hour\n",
    "datatrain.drop('datetime', axis = 1, inplace = True)\n",
    "\n",
    "datatest['hour'] = pd.to_datetime(datatest['datetime']).dt.hour\n",
    "datatest.drop('datetime', axis = 1, inplace = True)\n",
    "\n",
    "datavalid['hour'] = pd.to_datetime(datavalid['datetime']).dt.hour\n",
    "datavalid.drop('datetime', axis = 1, inplace = True)"
   ]
  },
  {
   "cell_type": "code",
   "execution_count": 84,
   "id": "e2060a52",
   "metadata": {},
   "outputs": [],
   "source": [
    "train_columns = [col for col in datatrain.columns if col != 'fraud']"
   ]
  },
  {
   "cell_type": "code",
   "execution_count": 67,
   "id": "5f9320f6",
   "metadata": {},
   "outputs": [],
   "source": [
    "def skf(data, n_splits):\n",
    "  ones = data[data.fraud == 1].index\n",
    "  zeros = data[data.fraud == 0].index\n",
    "  ratio = len(ones)/len(zeros)\n",
    "  pas = len(data)// n_splits\n",
    "  pas_normal = int(pas/(1+ratio))\n",
    "  pas_anormal = int(ratio * pas_normal)\n",
    "  data['fold_id'] = 0\n",
    "  i,j = 0,0\n",
    "  \n",
    "  for index in range(n_splits):\n",
    "    #print(i,j)\n",
    "    data.loc[zeros[i:i+pas_normal], 'fold_id'] = index\n",
    "    data.loc[ones[j:j+pas_anormal], 'fold_id'] = index\n",
    "    i += pas_normal\n",
    "    j += pas_anormal\n",
    "  return data "
   ]
  },
  {
   "cell_type": "code",
   "execution_count": 157,
   "id": "e74aa343",
   "metadata": {},
   "outputs": [],
   "source": [
    "\n",
    "\n",
    "#x_train=data.iloc[:150000]\n",
    "#x_train= datatrain[x_train.fraud==0]\n",
    "x_train=datatrain.drop(columns='fraud', axis=1)\n",
    "y_train = datatrain['fraud']\n",
    "x_test= datatest.drop(columns='fraud', axis=1)\n",
    "y_test = datatest['fraud']\n",
    "x_valid= datavalid.drop(columns='fraud', axis=1)\n",
    "y_valid = datavalid['fraud']\n",
    "x_train1=datatrain1.drop(columns='fraud', axis=1)\n",
    "y_train1 = datatrain1['fraud']"
   ]
  },
  {
   "cell_type": "code",
   "execution_count": 158,
   "id": "b312c550",
   "metadata": {},
   "outputs": [],
   "source": [
    "from sklearn.svm import SVC"
   ]
  },
  {
   "cell_type": "code",
   "execution_count": 159,
   "id": "76cf5ce8",
   "metadata": {},
   "outputs": [
    {
     "data": {
      "text/plain": [
       "99998"
      ]
     },
     "execution_count": 159,
     "metadata": {},
     "output_type": "execute_result"
    }
   ],
   "source": [
    "len(x_train)"
   ]
  },
  {
   "cell_type": "code",
   "execution_count": 167,
   "id": "6b874d57",
   "metadata": {},
   "outputs": [
    {
     "data": {
      "text/plain": [
       "SVC(kernel='sigmoid')"
      ]
     },
     "execution_count": 167,
     "metadata": {},
     "output_type": "execute_result"
    }
   ],
   "source": [
    "svcmodel1 = SVC(kernel='sigmoid')\n",
    "svcmodel1.fit(x_train,y_train)"
   ]
  },
  {
   "cell_type": "code",
   "execution_count": 169,
   "id": "02b5bbc1",
   "metadata": {},
   "outputs": [],
   "source": [
    "\n",
    "ypredtrain = svcmodel1.predict(x_train1)\n",
    "ypredvalid = svcmodel1.predict(x_valid)\n",
    "ypredtest = svcmodel1.predict(x_test)"
   ]
  },
  {
   "cell_type": "code",
   "execution_count": 176,
   "id": "17eeefaf",
   "metadata": {},
   "outputs": [
    {
     "data": {
      "text/plain": [
       "array([0, 0, 0, ..., 0, 0, 0], dtype=int64)"
      ]
     },
     "execution_count": 176,
     "metadata": {},
     "output_type": "execute_result"
    }
   ],
   "source": [
    "ypredvalid"
   ]
  },
  {
   "cell_type": "code",
   "execution_count": 174,
   "id": "d467d539",
   "metadata": {},
   "outputs": [
    {
     "data": {
      "text/plain": [
       "0.0434"
      ]
     },
     "execution_count": 174,
     "metadata": {},
     "output_type": "execute_result"
    }
   ],
   "source": [
    "sum(abs(ypredtest-y_test))/50000"
   ]
  },
  {
   "cell_type": "markdown",
   "id": "2bf9be72",
   "metadata": {},
   "source": [
    "results = pd.dataframe(ypredtrain, \"predfraud\")"
   ]
  },
  {
   "cell_type": "code",
   "execution_count": 183,
   "id": "bb619ba1",
   "metadata": {},
   "outputs": [],
   "source": [
    "predtrain = pd.DataFrame (ypredtrain, columns =[\"predfraud\"])\n",
    "predvalid = pd.DataFrame (ypredvalid, columns =[\"predfraud\"])\n",
    "predtest = pd.DataFrame (ypredtest, columns =[\"predfraud\"])"
   ]
  },
  {
   "cell_type": "raw",
   "id": "99feec4c",
   "metadata": {},
   "source": []
  },
  {
   "cell_type": "code",
   "execution_count": 184,
   "id": "aff44167",
   "metadata": {},
   "outputs": [],
   "source": [
    "predtrain.to_csv(\"trainSVM.csv\")\n",
    "predvalid.to_csv(\"validSVM.csv\")\n",
    "predtest.to_csv(\"tesTSVM.csv\")"
   ]
  },
  {
   "cell_type": "code",
   "execution_count": null,
   "id": "f121ee6d",
   "metadata": {},
   "outputs": [],
   "source": []
  }
 ],
 "metadata": {
  "kernelspec": {
   "display_name": "Python 3 (ipykernel)",
   "language": "python",
   "name": "python3"
  },
  "language_info": {
   "codemirror_mode": {
    "name": "ipython",
    "version": 3
   },
   "file_extension": ".py",
   "mimetype": "text/x-python",
   "name": "python",
   "nbconvert_exporter": "python",
   "pygments_lexer": "ipython3",
   "version": "3.9.12"
  }
 },
 "nbformat": 4,
 "nbformat_minor": 5
}
